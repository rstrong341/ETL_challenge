{
 "cells": [
  {
   "cell_type": "code",
   "execution_count": 1,
   "metadata": {
    "collapsed": true
   },
   "outputs": [],
   "source": [
    "import pandas as pd\n",
    "import numpy as np\n"
   ]
  },
  {
   "cell_type": "code",
   "execution_count": 2,
   "metadata": {
    "collapsed": false
   },
   "outputs": [],
   "source": [
    "with open('ISO_Country_Codes.csv') as f:\n",
    "    isodf = pd.read_csv(f, header=None)\n",
    "with open('relig.csv') as f:\n",
    "    religdf = pd.read_csv(f)\n",
    "isodf.rename(columns={0:'iso', 1:'country'}, inplace=True)"
   ]
  },
  {
   "cell_type": "code",
   "execution_count": 3,
   "metadata": {
    "collapsed": false
   },
   "outputs": [
    {
     "data": {
      "text/html": [
       "<div>\n",
       "<table border=\"1\" class=\"dataframe\">\n",
       "  <thead>\n",
       "    <tr style=\"text-align: right;\">\n",
       "      <th></th>\n",
       "      <th>iso</th>\n",
       "      <th>country</th>\n",
       "    </tr>\n",
       "  </thead>\n",
       "  <tbody>\n",
       "    <tr>\n",
       "      <th>0</th>\n",
       "      <td>ABW</td>\n",
       "      <td>Aruba</td>\n",
       "    </tr>\n",
       "    <tr>\n",
       "      <th>1</th>\n",
       "      <td>AFG</td>\n",
       "      <td>Afghanistan</td>\n",
       "    </tr>\n",
       "    <tr>\n",
       "      <th>2</th>\n",
       "      <td>AGO</td>\n",
       "      <td>Angola</td>\n",
       "    </tr>\n",
       "    <tr>\n",
       "      <th>3</th>\n",
       "      <td>AIA</td>\n",
       "      <td>Anguilla</td>\n",
       "    </tr>\n",
       "    <tr>\n",
       "      <th>4</th>\n",
       "      <td>ALA</td>\n",
       "      <td>�land Islands</td>\n",
       "    </tr>\n",
       "  </tbody>\n",
       "</table>\n",
       "</div>"
      ],
      "text/plain": [
       "   iso        country\n",
       "0  ABW          Aruba\n",
       "1  AFG    Afghanistan\n",
       "2  AGO         Angola\n",
       "3  AIA       Anguilla\n",
       "4  ALA  �land Islands"
      ]
     },
     "execution_count": 3,
     "metadata": {},
     "output_type": "execute_result"
    }
   ],
   "source": [
    "isodf.head()"
   ]
  },
  {
   "cell_type": "code",
   "execution_count": 4,
   "metadata": {
    "collapsed": false
   },
   "outputs": [
    {
     "data": {
      "text/html": [
       "<div>\n",
       "<table border=\"1\" class=\"dataframe\">\n",
       "  <thead>\n",
       "    <tr style=\"text-align: right;\">\n",
       "      <th></th>\n",
       "      <th>country</th>\n",
       "      <th>gdp_pc</th>\n",
       "      <th>gpi_rank</th>\n",
       "      <th>gpi_score</th>\n",
       "      <th>percentage_non_religious</th>\n",
       "    </tr>\n",
       "  </thead>\n",
       "  <tbody>\n",
       "    <tr>\n",
       "      <th>0</th>\n",
       "      <td>Iceland</td>\n",
       "      <td>38300</td>\n",
       "      <td>1</td>\n",
       "      <td>1.113</td>\n",
       "      <td>10.04</td>\n",
       "    </tr>\n",
       "    <tr>\n",
       "      <th>1</th>\n",
       "      <td>Denmark</td>\n",
       "      <td>36600</td>\n",
       "      <td>2</td>\n",
       "      <td>1.239</td>\n",
       "      <td>6.90</td>\n",
       "    </tr>\n",
       "    <tr>\n",
       "      <th>2</th>\n",
       "      <td>New Zealand</td>\n",
       "      <td>27700</td>\n",
       "      <td>2</td>\n",
       "      <td>1.239</td>\n",
       "      <td>34.60</td>\n",
       "    </tr>\n",
       "    <tr>\n",
       "      <th>3</th>\n",
       "      <td>Canada</td>\n",
       "      <td>39400</td>\n",
       "      <td>4</td>\n",
       "      <td>1.317</td>\n",
       "      <td>25.50</td>\n",
       "    </tr>\n",
       "    <tr>\n",
       "      <th>4</th>\n",
       "      <td>Japan</td>\n",
       "      <td>34000</td>\n",
       "      <td>5</td>\n",
       "      <td>1.326</td>\n",
       "      <td>77.00</td>\n",
       "    </tr>\n",
       "  </tbody>\n",
       "</table>\n",
       "</div>"
      ],
      "text/plain": [
       "       country  gdp_pc  gpi_rank  gpi_score  percentage_non_religious\n",
       "0      Iceland   38300         1      1.113                     10.04\n",
       "1      Denmark   36600         2      1.239                      6.90\n",
       "2  New Zealand   27700         2      1.239                     34.60\n",
       "3       Canada   39400         4      1.317                     25.50\n",
       "4        Japan   34000         5      1.326                     77.00"
      ]
     },
     "execution_count": 4,
     "metadata": {},
     "output_type": "execute_result"
    }
   ],
   "source": [
    "religdf.head()"
   ]
  },
  {
   "cell_type": "code",
   "execution_count": 5,
   "metadata": {
    "collapsed": false
   },
   "outputs": [],
   "source": [
    "isodf_set = pd.core.series.Series(list(set(isodf.country)))\n",
    "religdf_set = pd.core.series.Series(list(set(religdf.country)))"
   ]
  },
  {
   "cell_type": "code",
   "execution_count": 6,
   "metadata": {
    "collapsed": false
   },
   "outputs": [
    {
     "data": {
      "text/plain": [
       "[(9, False),\n",
       " (23, False),\n",
       " (24, False),\n",
       " (35, False),\n",
       " (48, False),\n",
       " (49, False),\n",
       " (61, False),\n",
       " (66, False),\n",
       " (68, False),\n",
       " (79, False),\n",
       " (87, False),\n",
       " (92, False),\n",
       " (104, False),\n",
       " (105, False),\n",
       " (119, False),\n",
       " (126, False),\n",
       " (127, False),\n",
       " (128, False),\n",
       " (140, False),\n",
       " (145, False)]"
      ]
     },
     "execution_count": 6,
     "metadata": {},
     "output_type": "execute_result"
    }
   ],
   "source": [
    "[(i, j) for (i, j) in enumerate(religdf_set.isin(isodf_set)) if not j]"
   ]
  },
  {
   "cell_type": "code",
   "execution_count": 30,
   "metadata": {
    "collapsed": false
   },
   "outputs": [
    {
     "name": "stdout",
     "output_type": "stream",
     "text": [
      "religdf:  Macedonia (FYR)\n"
     ]
    }
   ],
   "source": [
    "print \"religdf: \", religdf_set[145]"
   ]
  },
  {
   "cell_type": "code",
   "execution_count": 31,
   "metadata": {
    "collapsed": false
   },
   "outputs": [
    {
     "name": "stdout",
     "output_type": "stream",
     "text": [
      "73    Macedonia, the former Yugoslav Republic of\n",
      "dtype: object\n"
     ]
    }
   ],
   "source": [
    "x = [i for i, j in enumerate(isodf_set.str.contains('Maced')) if j]\n",
    "print isodf_set[x]"
   ]
  },
  {
   "cell_type": "code",
   "execution_count": 33,
   "metadata": {
    "collapsed": true
   },
   "outputs": [],
   "source": [
    "#isodf\n",
    "iso_replace = \\\n",
    "{'country' : \n",
    "   {isodf_set[200] : religdf_set[9],\n",
    "    isodf_set[178] : religdf_set[23],\n",
    "    isodf_set[232] : religdf_set[24],\n",
    "    isodf_set[135] : religdf_set[35],\n",
    "    isodf_set[165] : religdf_set[48],\n",
    "    isodf_set[243] : religdf_set[49],\n",
    "    isodf_set[187] : religdf_set[61],\n",
    "    isodf_set[29]  : religdf_set[68],\n",
    "    isodf_set[221] : religdf_set[79],\n",
    "    isodf_set[74]  : religdf_set[87],\n",
    "    isodf_set[90]  : religdf_set[92],\n",
    "    isodf_set[101] : religdf_set[104],\n",
    "    isodf_set[219] : religdf_set[105],\n",
    "    isodf_set[11]  : religdf_set[119],\n",
    "    isodf_set[86]  : religdf_set[126],\n",
    "    isodf_set[27]  : religdf_set[127],\n",
    "    isodf_set[2]  : religdf_set[128],\n",
    "    isodf_set[149]  : religdf_set[140],\n",
    "    isodf_set[73]  : religdf_set[145]\n",
    "   }\n",
    " }"
   ]
  },
  {
   "cell_type": "code",
   "execution_count": 34,
   "metadata": {
    "collapsed": false
   },
   "outputs": [],
   "source": [
    "isodf = isodf.replace(iso_replace)"
   ]
  },
  {
   "cell_type": "code",
   "execution_count": 38,
   "metadata": {
    "collapsed": false
   },
   "outputs": [],
   "source": [
    "relig_iso_df = pd.merge(isodf, religdf, on='country', how='inner')"
   ]
  },
  {
   "cell_type": "code",
   "execution_count": 40,
   "metadata": {
    "collapsed": false
   },
   "outputs": [],
   "source": [
    "relig_iso_df.to_csv('relig_iso.csv')"
   ]
  },
  {
   "cell_type": "code",
   "execution_count": 45,
   "metadata": {
    "collapsed": false
   },
   "outputs": [],
   "source": [
    "r_gdp_df = relig_iso_df.rename(columns={'iso':'code', 'gdp_pc':'value' })\n",
    "r_gpi_df = relig_iso_df.rename(columns={'iso':'code', 'gpi_score':'value' })\n",
    "r_percent_non_relig = relig_iso_df.rename(columns={'iso':'code', 'percentage_non_religious':'value'})"
   ]
  },
  {
   "cell_type": "code",
   "execution_count": 46,
   "metadata": {
    "collapsed": false
   },
   "outputs": [],
   "source": [
    "r_gdp_df.to_csv('r_gdp.csv')\n",
    "r_gpi_df.to_csv('r_gpi.csv')\n",
    "r_percent_non_relig.to_csv('non_rel.csv')"
   ]
  },
  {
   "cell_type": "code",
   "execution_count": null,
   "metadata": {
    "collapsed": true
   },
   "outputs": [],
   "source": []
  }
 ],
 "metadata": {
  "kernelspec": {
   "display_name": "Python 2",
   "language": "python",
   "name": "python2"
  },
  "language_info": {
   "codemirror_mode": {
    "name": "ipython",
    "version": 2
   },
   "file_extension": ".py",
   "mimetype": "text/x-python",
   "name": "python",
   "nbconvert_exporter": "python",
   "pygments_lexer": "ipython2",
   "version": "2.7.11"
  }
 },
 "nbformat": 4,
 "nbformat_minor": 0
}
